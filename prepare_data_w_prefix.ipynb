{
 "cells": [
  {
   "cell_type": "markdown",
   "id": "4894e89a-0bec-4d38-9aa6-da27b74e645c",
   "metadata": {},
   "source": [
    "# load data"
   ]
  },
  {
   "cell_type": "code",
   "execution_count": 1,
   "id": "3407ae5c-c1f9-4681-954a-32af924d5ea6",
   "metadata": {},
   "outputs": [],
   "source": [
    "import os\n",
    "import pandas as pd"
   ]
  },
  {
   "cell_type": "code",
   "execution_count": 2,
   "id": "36105ae5-55fa-4e5f-a377-3aa1723a9522",
   "metadata": {},
   "outputs": [],
   "source": [
    "from tqdm.notebook import tqdm\n",
    "tqdm.pandas()"
   ]
  },
  {
   "cell_type": "code",
   "execution_count": 3,
   "id": "e32c4598-0e53-446a-add2-ade6a5c80717",
   "metadata": {},
   "outputs": [],
   "source": [
    "# dataset setting\n",
    "DATASET_PATH=\"dataset-ifttt-zenodo\"\n",
    "EXPERIMENT=\"chen\"\n",
    "DATA_NUM=None"
   ]
  },
  {
   "cell_type": "code",
   "execution_count": 4,
   "id": "8ee3b914-346d-4f5d-a3bc-72aa99fa27ca",
   "metadata": {},
   "outputs": [],
   "source": [
    "def get_dataset_path(root=DATASET_PATH, exp=EXPERIMENT):\n",
    "    if exp==\"chen\":\n",
    "        train_path = os.path.join(root, \"ready-train-chen-only/train-chen.pkl\")\n",
    "        val_path = os.path.join(root, \"ready-train-val-noisy/validation-noisy.pkl\")\n",
    "        gold_path = os.path.join(root, \"ready-test-clean/test_gold_clean.pkl\")\n",
    "        noisy_path = os.path.join(root, \"ready-test-clean/test_intel_clean.pkl\")\n",
    "    return {\"train\": train_path,\n",
    "            \"val\": val_path,\n",
    "            \"gold\": gold_path,\n",
    "            \"noisy\": noisy_path}\n",
    "\n",
    "path_dict = get_dataset_path()"
   ]
  },
  {
   "cell_type": "code",
   "execution_count": 5,
   "id": "b6127bba-95ad-4d4e-b503-7b77542776dc",
   "metadata": {},
   "outputs": [
    {
     "name": "stdout",
     "output_type": "stream",
     "text": [
      "<class 'pandas.core.frame.DataFrame'>\n",
      "Int64Index: 45003 entries, 0 to 45005\n",
      "Data columns (total 2 columns):\n",
      " #   Column  Non-Null Count  Dtype \n",
      "---  ------  --------------  ----- \n",
      " 0   source  45003 non-null  object\n",
      " 1   target  45003 non-null  object\n",
      "dtypes: object(2)\n",
      "memory usage: 1.0+ MB\n"
     ]
    }
   ],
   "source": [
    "def load_dataset(path_dict=path_dict, number=None):\n",
    "    assert(type(path_dict)==dict)\n",
    "    df_dict = {}\n",
    "    for split, path in path_dict.items():\n",
    "        if number:\n",
    "            df_dict[split] = pd.read_pickle(path).sample(n=number, random_state=1234).copy()\n",
    "        else:\n",
    "            df_dict[split] = pd.read_pickle(path)\n",
    "    return df_dict\n",
    "\n",
    "if DATA_NUM:\n",
    "    df_dict = load_dataset(number=DATA_NUM)\n",
    "else:\n",
    "    df_dict = load_dataset()\n",
    "\n",
    "df_dict['train'].info()"
   ]
  },
  {
   "cell_type": "markdown",
   "id": "7700ff2d-cfcb-4349-8fcc-0d0e40122f2e",
   "metadata": {},
   "source": [
    "# add prefix"
   ]
  },
  {
   "cell_type": "code",
   "execution_count": 6,
   "id": "0f064435-24c4-4b20-89ec-7cc1cf658240",
   "metadata": {},
   "outputs": [],
   "source": [
    "prefix_dict=  {\"CHANNEL_ONLY\": \"GENERATE TRIGGER AND ACTION CHANNEL ONLY <pf> \",\n",
    "                \"FULL\": \"GENERATE BOTH CHANNEL AND FUNCTION FOR TRIGGER AND ACTION <pf> \"}"
   ]
  },
  {
   "cell_type": "code",
   "execution_count": 7,
   "id": "2699fd71-9dec-4c8c-9612-1c4b12364743",
   "metadata": {},
   "outputs": [],
   "source": [
    "import copy"
   ]
  },
  {
   "cell_type": "code",
   "execution_count": 8,
   "id": "c5337252-b884-4172-b1f2-a59f6f5b981b",
   "metadata": {},
   "outputs": [],
   "source": [
    "def add_prefix(input_dict, mode, prefix_dict):\n",
    "    input_dict_cp = copy.deepcopy(input_dict)\n",
    "    for key, df in input_dict_cp.items():\n",
    "        df['source'] = df.source.apply(lambda x: prefix_dict.get(mode) + x)\n",
    "        if mode==\"CHANNEL_ONLY\":\n",
    "            df['target'] = df.target.apply(lambda x: x.split(\"<sep>\")[0].strip() + \" <sep> \" + x.split(\"<sep>\")[2].strip())\n",
    "    return input_dict_cp"
   ]
  },
  {
   "cell_type": "code",
   "execution_count": 9,
   "id": "e79a5b59-a96e-4e99-aa8a-4c29878093bb",
   "metadata": {},
   "outputs": [],
   "source": [
    "temp_dict0 = add_prefix(input_dict=df_dict, mode=\"CHANNEL_ONLY\", prefix_dict=prefix_dict)\n",
    "temp_dict1 = add_prefix(input_dict=df_dict, mode=\"FULL\", prefix_dict=prefix_dict)"
   ]
  },
  {
   "cell_type": "code",
   "execution_count": 15,
   "id": "9eb62790-8231-466b-8668-0ea9a854bcbc",
   "metadata": {},
   "outputs": [
    {
     "data": {
      "text/plain": [
       "[['GENERATE TRIGGER AND ACTION CHANNEL ONLY <pf> pinboard . in @post items to buffer for distribution to social networks',\n",
       "  'Pinboard <sep> Buffer'],\n",
       " ['GENERATE TRIGGER AND ACTION CHANNEL ONLY <pf> add a new wordpress blog , post a link on twitter',\n",
       "  'WordPress <sep> Twitter'],\n",
       " ['GENERATE TRIGGER AND ACTION CHANNEL ONLY <pf> save the nasa image of the day to your ios photos',\n",
       "  'Space <sep> iOS_Photos']]"
      ]
     },
     "execution_count": 15,
     "metadata": {},
     "output_type": "execute_result"
    }
   ],
   "source": [
    "temp_dict0['gold'].sample(n=3, random_state=123).values.tolist()"
   ]
  },
  {
   "cell_type": "code",
   "execution_count": 12,
   "id": "5295dd2c-b975-437b-bcf0-e094615637b9",
   "metadata": {},
   "outputs": [],
   "source": [
    "OUTPUT_DIR = \"dataset-w-prefix_ch\"\n",
    "if not os.path.exists(OUTPUT_DIR):\n",
    "    os.makedirs(OUTPUT_DIR)\n",
    "    \n",
    "for key, item in temp_dict0.items():\n",
    "    item.to_pickle(f\"{OUTPUT_DIR}/{key}.pkl\")"
   ]
  },
  {
   "cell_type": "code",
   "execution_count": 13,
   "id": "e35506c6-049a-449c-acb8-5bda704f5db7",
   "metadata": {},
   "outputs": [
    {
     "data": {
      "text/plain": [
       "[['GENERATE BOTH CHANNEL AND FUNCTION FOR TRIGGER AND ACTION <pf> sends me an email when weather is rainy tommorow . in c [ for europe use only ]',\n",
       "  \"Weather <sep> Weather.Tomorrow's_forecast_calls_for <sep> Email <sep> Email.Send_me_an_email\"],\n",
       " ['GENERATE BOTH CHANNEL AND FUNCTION FOR TRIGGER AND ACTION <pf> when @mel66 tweets about # ppc save to pocket',\n",
       "  'Feed <sep> Feed.New_feed_item <sep> Pocket <sep> Pocket.Save_for_later'],\n",
       " [\"GENERATE BOTH CHANNEL AND FUNCTION FOR TRIGGER AND ACTION <pf> thanks for the twitter follow , here ' s when you followed me !\",\n",
       "  'Gmail <sep> Gmail.New_email_in_inbox_labeled <sep> Twitter <sep> Twitter.Post_a_tweet']]"
      ]
     },
     "execution_count": 13,
     "metadata": {},
     "output_type": "execute_result"
    }
   ],
   "source": [
    "temp_dict1['train'].sample(n=3, random_state=123).values.tolist()"
   ]
  },
  {
   "cell_type": "code",
   "execution_count": 14,
   "id": "638857d8-f3c0-449c-a8d1-c35a5f6855d0",
   "metadata": {},
   "outputs": [],
   "source": [
    "OUTPUT_DIR = \"dataset-w-prefix_fc\"\n",
    "if not os.path.exists(OUTPUT_DIR):\n",
    "    os.makedirs(OUTPUT_DIR)\n",
    "    \n",
    "for key, item in temp_dict1.items():\n",
    "    item.to_pickle(f\"{OUTPUT_DIR}/{key}.pkl\")"
   ]
  },
  {
   "cell_type": "code",
   "execution_count": 66,
   "id": "fafcc757-8f4e-417c-80b3-b16b8ec0c5b6",
   "metadata": {},
   "outputs": [],
   "source": [
    "merge_dict = {}\n",
    "for key in temp_dict0:\n",
    "    merge_dict[key] = pd.concat(([temp_dict0[key],\n",
    "                                 temp_dict1[key]]))"
   ]
  },
  {
   "cell_type": "code",
   "execution_count": 67,
   "id": "f9161211-0b4f-423c-aa11-5f8e8fa7ce09",
   "metadata": {},
   "outputs": [
    {
     "data": {
      "text/html": [
       "<div>\n",
       "<style scoped>\n",
       "    .dataframe tbody tr th:only-of-type {\n",
       "        vertical-align: middle;\n",
       "    }\n",
       "\n",
       "    .dataframe tbody tr th {\n",
       "        vertical-align: top;\n",
       "    }\n",
       "\n",
       "    .dataframe thead th {\n",
       "        text-align: right;\n",
       "    }\n",
       "</style>\n",
       "<table border=\"1\" class=\"dataframe\">\n",
       "  <thead>\n",
       "    <tr style=\"text-align: right;\">\n",
       "      <th></th>\n",
       "      <th>source</th>\n",
       "      <th>target</th>\n",
       "    </tr>\n",
       "  </thead>\n",
       "  <tbody>\n",
       "    <tr>\n",
       "      <th>0</th>\n",
       "      <td>GENERATE TRIGGER AND ACTION CHANNEL ONLY &lt;pf&gt; ...</td>\n",
       "      <td>IFTTT &lt;sep&gt; Twitter</td>\n",
       "    </tr>\n",
       "    <tr>\n",
       "      <th>1</th>\n",
       "      <td>GENERATE TRIGGER AND ACTION CHANNEL ONLY &lt;pf&gt; ...</td>\n",
       "      <td>Phone_Call &lt;sep&gt; Gmail</td>\n",
       "    </tr>\n",
       "    <tr>\n",
       "      <th>2</th>\n",
       "      <td>GENERATE TRIGGER AND ACTION CHANNEL ONLY &lt;pf&gt; ...</td>\n",
       "      <td>Facebook &lt;sep&gt; Dropbox</td>\n",
       "    </tr>\n",
       "    <tr>\n",
       "      <th>3</th>\n",
       "      <td>GENERATE TRIGGER AND ACTION CHANNEL ONLY &lt;pf&gt; ...</td>\n",
       "      <td>Twitter &lt;sep&gt; Email</td>\n",
       "    </tr>\n",
       "    <tr>\n",
       "      <th>4</th>\n",
       "      <td>GENERATE TRIGGER AND ACTION CHANNEL ONLY &lt;pf&gt; ...</td>\n",
       "      <td>Flickr &lt;sep&gt; Twitter</td>\n",
       "    </tr>\n",
       "    <tr>\n",
       "      <th>...</th>\n",
       "      <td>...</td>\n",
       "      <td>...</td>\n",
       "    </tr>\n",
       "    <tr>\n",
       "      <th>45001</th>\n",
       "      <td>GENERATE BOTH CHANNEL AND FUNCTION FOR TRIGGER...</td>\n",
       "      <td>Facebook &lt;sep&gt; Facebook.New_status_message_by_...</td>\n",
       "    </tr>\n",
       "    <tr>\n",
       "      <th>45002</th>\n",
       "      <td>GENERATE BOTH CHANNEL AND FUNCTION FOR TRIGGER...</td>\n",
       "      <td>Facebook_Pages &lt;sep&gt; Facebook_Pages.New_photo_...</td>\n",
       "    </tr>\n",
       "    <tr>\n",
       "      <th>45003</th>\n",
       "      <td>GENERATE BOTH CHANNEL AND FUNCTION FOR TRIGGER...</td>\n",
       "      <td>Facebook_Pages &lt;sep&gt; Facebook_Pages.New_link_p...</td>\n",
       "    </tr>\n",
       "    <tr>\n",
       "      <th>45004</th>\n",
       "      <td>GENERATE BOTH CHANNEL AND FUNCTION FOR TRIGGER...</td>\n",
       "      <td>Facebook_Pages &lt;sep&gt; Facebook_Pages.New_status...</td>\n",
       "    </tr>\n",
       "    <tr>\n",
       "      <th>45005</th>\n",
       "      <td>GENERATE BOTH CHANNEL AND FUNCTION FOR TRIGGER...</td>\n",
       "      <td>Location &lt;sep&gt; Location.You_enter_an_area &lt;sep...</td>\n",
       "    </tr>\n",
       "  </tbody>\n",
       "</table>\n",
       "<p>90006 rows × 2 columns</p>\n",
       "</div>"
      ],
      "text/plain": [
       "                                                  source  \\\n",
       "0      GENERATE TRIGGER AND ACTION CHANNEL ONLY <pf> ...   \n",
       "1      GENERATE TRIGGER AND ACTION CHANNEL ONLY <pf> ...   \n",
       "2      GENERATE TRIGGER AND ACTION CHANNEL ONLY <pf> ...   \n",
       "3      GENERATE TRIGGER AND ACTION CHANNEL ONLY <pf> ...   \n",
       "4      GENERATE TRIGGER AND ACTION CHANNEL ONLY <pf> ...   \n",
       "...                                                  ...   \n",
       "45001  GENERATE BOTH CHANNEL AND FUNCTION FOR TRIGGER...   \n",
       "45002  GENERATE BOTH CHANNEL AND FUNCTION FOR TRIGGER...   \n",
       "45003  GENERATE BOTH CHANNEL AND FUNCTION FOR TRIGGER...   \n",
       "45004  GENERATE BOTH CHANNEL AND FUNCTION FOR TRIGGER...   \n",
       "45005  GENERATE BOTH CHANNEL AND FUNCTION FOR TRIGGER...   \n",
       "\n",
       "                                                  target  \n",
       "0                                    IFTTT <sep> Twitter  \n",
       "1                                 Phone_Call <sep> Gmail  \n",
       "2                                 Facebook <sep> Dropbox  \n",
       "3                                    Twitter <sep> Email  \n",
       "4                                   Flickr <sep> Twitter  \n",
       "...                                                  ...  \n",
       "45001  Facebook <sep> Facebook.New_status_message_by_...  \n",
       "45002  Facebook_Pages <sep> Facebook_Pages.New_photo_...  \n",
       "45003  Facebook_Pages <sep> Facebook_Pages.New_link_p...  \n",
       "45004  Facebook_Pages <sep> Facebook_Pages.New_status...  \n",
       "45005  Location <sep> Location.You_enter_an_area <sep...  \n",
       "\n",
       "[90006 rows x 2 columns]"
      ]
     },
     "execution_count": 67,
     "metadata": {},
     "output_type": "execute_result"
    }
   ],
   "source": [
    "merge_dict['train']"
   ]
  },
  {
   "cell_type": "code",
   "execution_count": 68,
   "id": "684087a5-39af-48e6-9011-0794be9ff227",
   "metadata": {},
   "outputs": [],
   "source": [
    "OUTPUT_DIR = \"dataset-w-prefix\"\n",
    "if not os.path.exists(OUTPUT_DIR):\n",
    "    os.makedirs(OUTPUT_DIR)\n",
    "    \n",
    "for key, item in merge_dict.items():\n",
    "    item.to_pickle(f\"{OUTPUT_DIR}/{key}.pkl\")"
   ]
  },
  {
   "cell_type": "code",
   "execution_count": null,
   "id": "eeaafeba-e0f5-49b1-9f37-8897f95cc236",
   "metadata": {},
   "outputs": [],
   "source": []
  }
 ],
 "metadata": {
  "kernelspec": {
   "display_name": "Python 3 (ipykernel)",
   "language": "python",
   "name": "python3"
  },
  "language_info": {
   "codemirror_mode": {
    "name": "ipython",
    "version": 3
   },
   "file_extension": ".py",
   "mimetype": "text/x-python",
   "name": "python",
   "nbconvert_exporter": "python",
   "pygments_lexer": "ipython3",
   "version": "3.8.5"
  }
 },
 "nbformat": 4,
 "nbformat_minor": 5
}
